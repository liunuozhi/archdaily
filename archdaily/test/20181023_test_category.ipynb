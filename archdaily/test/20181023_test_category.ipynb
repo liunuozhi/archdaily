{
 "cells": [
  {
   "cell_type": "code",
   "execution_count": 2,
   "metadata": {},
   "outputs": [],
   "source": [
    "from bs4 import BeautifulSoup\n",
    "import requests"
   ]
  },
  {
   "cell_type": "code",
   "execution_count": 3,
   "metadata": {},
   "outputs": [],
   "source": [
    "URL = 'https://www.archdaily.com/search/projects/categories/theaters-and-performance'"
   ]
  },
  {
   "cell_type": "code",
   "execution_count": 7,
   "metadata": {},
   "outputs": [],
   "source": [
    "def scrape(url):\n",
    "    res = requests.get(url)\n",
    "    soup = BeautifulSoup(res.content, 'lxml')\n",
    "    return soup"
   ]
  },
  {
   "cell_type": "code",
   "execution_count": 8,
   "metadata": {},
   "outputs": [],
   "source": [
    "soup = scrape(URL)"
   ]
  },
  {
   "cell_type": "code",
   "execution_count": 14,
   "metadata": {},
   "outputs": [],
   "source": [
    "BASE_URL = 'https://www.archdaily.com/{0}'\n",
    "category_page = [ BASE_URL.format(tag['href']) for tag in soup.find_all('a', attrs={'class': 'afd-search-list__link'})]"
   ]
  },
  {
   "cell_type": "code",
   "execution_count": 15,
   "metadata": {},
   "outputs": [
    {
     "data": {
      "text/plain": [
       "['https://www.archdaily.com//904225/the-fuzhou-strait-culture-and-art-centre-pes-architects',\n",
       " 'https://www.archdaily.com//799128/sala-beckett-flores-and-prats',\n",
       " 'https://www.archdaily.com//904019/national-kaohsiung-center-for-the-arts-mecanoo',\n",
       " 'https://www.archdaily.com//902653/arts-center-taller-de-arquitectura-de-bogota',\n",
       " 'https://www.archdaily.com//903152/cabb-auditorium-grhound-office',\n",
       " 'https://www.archdaily.com//903652/event-hall-spaces-architecture',\n",
       " 'https://www.archdaily.com//902893/renovation-of-auditorium-in-north-campus-central-academy-of-fine-arts-yu-yang-star-cafa',\n",
       " 'https://www.archdaily.com//901883/oldham-town-hall-bdp',\n",
       " 'https://www.archdaily.com//901505/beehive-house-jima-design',\n",
       " 'https://www.archdaily.com//901449/guangxi-culture-and-art-center-gmp-architects',\n",
       " 'https://www.archdaily.com//901598/royal-academy-of-arts-masterplan-david-chipperfield-architects',\n",
       " 'https://www.archdaily.com//901335/palace-for-mexican-music-alejandro-medina-arquitectura-plus-reyes-rios-plus-larrain-arquitectos-plus-munoz-arquitectos-plus-quesnel-arquitectos',\n",
       " 'https://www.archdaily.com//901007/royal-birmingham-conservatoire-feilden-clegg-bradley-studios',\n",
       " 'https://www.archdaily.com//901011/musis-sacrum-van-dongen-koschuch',\n",
       " 'https://www.archdaily.com//897701/delphi-lux-cinema-batek-architekten-plus-ester-bruzkus-architekten',\n",
       " 'https://www.archdaily.com//900171/the-otto-m-budig-theater-gbbn',\n",
       " 'https://www.archdaily.com//900318/cloud-tower-tne-architects',\n",
       " 'https://www.archdaily.com//899214/reception-area-of-the-schaubuhne-berlin-barkow-leibinger',\n",
       " 'https://www.archdaily.com//899354/andon-zako-cajupi-theatre-bolles-plus-wilson',\n",
       " 'https://www.archdaily.com//898714/regents-park-open-air-theatre-reed-watts-architects',\n",
       " 'https://www.archdaily.com//898630/allende-performance-hall-and-rehearsal-studios-dominique-coulon-and-associes',\n",
       " 'https://www.archdaily.com//898511/kunshan-grand-theater-china-architecture-design-group-land-based-rationalism-drc',\n",
       " 'https://www.archdaily.com//897178/florence-culture-and-art-exchange-centre-penda',\n",
       " 'https://www.archdaily.com//896010/new-ateliers-university-of-fine-arts-andreas-schuring-architects']"
      ]
     },
     "execution_count": 15,
     "metadata": {},
     "output_type": "execute_result"
    }
   ],
   "source": [
    "category_page"
   ]
  },
  {
   "cell_type": "code",
   "execution_count": null,
   "metadata": {},
   "outputs": [],
   "source": []
  }
 ],
 "metadata": {
  "kernelspec": {
   "display_name": "Python 3",
   "language": "python",
   "name": "python3"
  },
  "language_info": {
   "codemirror_mode": {
    "name": "ipython",
    "version": 3
   },
   "file_extension": ".py",
   "mimetype": "text/x-python",
   "name": "python",
   "nbconvert_exporter": "python",
   "pygments_lexer": "ipython3",
   "version": "3.6.6"
  }
 },
 "nbformat": 4,
 "nbformat_minor": 2
}
